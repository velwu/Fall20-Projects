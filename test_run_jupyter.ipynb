{
 "cells": [
  {
   "cell_type": "markdown",
   "metadata": {},
   "source": [
    "### Note: These are run on IDEs with dark backgrounds.\n",
    "\n",
    "   - If you are viewing this file on a browser or Notepad-ish editor which have white backgrounds, the chess colors will look opposite.\n",
    "   \n",
    "  - Therefore, for clarifitcation purposes:\n",
    "      - Black chess is top / lowercase\n",
    "      - White chess is bottom / uppcase\n",
    "  - Because of the huge size of texts they incur (potentially hundreds of Megabytes), I have commented out the game-testing sessions (plus win/loss/draw records) and stored them on a local, offline storage of mine. I will be happy to provide those if any reader would like to see them."
   ]
  },
  {
   "cell_type": "code",
   "execution_count": 1,
   "metadata": {},
   "outputs": [],
   "source": [
    "import argparse\n",
    "import json\n",
    "\n",
    "import mechanics\n",
    "import print_board\n",
    "import chess.svg"
   ]
  },
  {
   "cell_type": "markdown",
   "metadata": {},
   "source": [
    "## 1. Some simple sanity checks"
   ]
  },
  {
   "cell_type": "code",
   "execution_count": 2,
   "metadata": {
    "pycharm": {
     "name": "#%%\n"
    }
   },
   "outputs": [],
   "source": [
    "# Test 1. Get a Gardner board\n",
    "# chess_board = mechanics.create_chess_board(\"Gardner\")\n",
    "# Test 2. Get a Jacobs–Meirovitz board\n",
    "# chess_board = mechanics.create_chess_board(\"Jacobs–Meirovitz\")\n",
    "# Test 3. Get a Mallett board\n",
    "# chess_board = mechanics.create_chess_board(\"Mallett\")"
   ]
  },
  {
   "cell_type": "code",
   "execution_count": 3,
   "metadata": {
    "pycharm": {
     "name": "#%%\n"
    }
   },
   "outputs": [
    {
     "name": "stdout",
     "output_type": "stream",
     "text": [
      "Adding a Black Rook at (4, 2)\n",
      "Adding a White Queen at (2, 0)\n",
      "Adding a White Pawn at (1, 2)\n",
      "Adding a Black Knight at (2, 2)\n",
      "Adding a Black King at (4, 0)\n",
      "Adding a White Bishop at (3, 3)\n",
      "Adding a Black Queen at (4, 1)\n",
      "Adding a White Pawn at (1, 0)\n",
      "Adding a White King at (0, 4)\n",
      "Adding a White Pawn at (3, 0)\n",
      " 口  口  口  口  ♚ \n",
      " ♟  口  ♟  口  口 \n",
      " ♛  口  ♘  口  口 \n",
      " ♟  口  口  ♝  口 \n",
      " ♔  ♕  ♖  口  口 \n",
      "{\"piece\": [\"P\", \"White Pawn\"], \"0 possible moves from current_location\": [3, 0]}\n"
     ]
    }
   ],
   "source": [
    "# Test 4. Place some derelict pieces to test piece movement mechanics\n",
    "location = (4,2)\n",
    "chess_board = [[\".\", \".\", \".\", \".\", \".\"] for i in range(5)]\n",
    "mechanics.add_piece_forcibly(chess_board, 'r', location)\n",
    "\n",
    "other_location = (2,0)\n",
    "mechanics.add_piece_forcibly(chess_board, 'Q', other_location)\n",
    "yet_other_location = (1,2)\n",
    "mechanics.add_piece_forcibly(chess_board, \"P\", yet_other_location)\n",
    "another_location_0 = (2,2)\n",
    "mechanics.add_piece_forcibly(chess_board, \"n\", another_location_0)\n",
    "another_location_1 = (4,0)\n",
    "mechanics.add_piece_forcibly(chess_board, \"k\", another_location_1)\n",
    "another_location_2 = (3,3)\n",
    "mechanics.add_piece_forcibly(chess_board, 'B', another_location_2)\n",
    "another_location_3 = (4,1)\n",
    "mechanics.add_piece_forcibly(chess_board, \"q\", another_location_3)\n",
    "another_location_4 = (1,0)\n",
    "mechanics.add_piece_forcibly(chess_board, \"P\", another_location_4)\n",
    "another_location_5 = (0,4)\n",
    "mechanics.add_piece_forcibly(chess_board, \"K\", another_location_5)\n",
    "another_location_6 = (3,0)\n",
    "mechanics.add_piece_forcibly(chess_board, \"P\", another_location_6)\n",
    "\n",
    "\n",
    "# According to the type of piece adjust function\n",
    "print_board.print_board(chess_board, True)\n",
    "test_coord = (3,0)\n",
    "piece_to_test = mechanics.get_piece_at_position(test_coord,chess_board)\n",
    "location_to_test = test_coord\n",
    "if (piece_to_test[0] in ['Q', 'q']):\n",
    "    possible_moves = mechanics.get_queen_moves(location_to_test, chess_board)\n",
    "\n",
    "elif (piece_to_test[0] in ['K', 'k']):\n",
    "    possible_moves = mechanics.get_king_moves(location_to_test, chess_board)\n",
    "\n",
    "elif (piece_to_test[0] in ['B', 'b']):\n",
    "    possible_moves = mechanics.get_bishop_moves(location_to_test, chess_board)\n",
    "\n",
    "elif (piece_to_test[0] in ['N', 'n']):\n",
    "    possible_moves = mechanics.get_knight_moves(location_to_test, chess_board)\n",
    "\n",
    "elif (piece_to_test[0] in ['R', 'r']):\n",
    "    possible_moves = mechanics.get_rook_moves(location_to_test, chess_board)\n",
    "\n",
    "elif (piece_to_test[0] in ['P', 'p']):\n",
    "    possible_moves = mechanics.get_pawn_moves(location_to_test, chess_board)\n",
    "else:\n",
    "    print(\"There is no piece in that square.\")\n",
    "\n",
    "print(json.dumps({\"piece\":piece_to_test,\n",
    "                  str(len(possible_moves)) + \" possible moves from current_location\": location_to_test}))"
   ]
  },
  {
   "cell_type": "code",
   "execution_count": 4,
   "metadata": {
    "pycharm": {
     "name": "#%%\n"
    }
   },
   "outputs": [
    {
     "name": "stdout",
     "output_type": "stream",
     "text": [
      "Board type: Jacobs–Meirovitz\n",
      " ♗  ♘  ♖  ♕  ♔ \n",
      " ♙  ♙  ♙  ♙  ♙ \n",
      " 口  口  口  口  口 \n",
      " ♟  ♟  ♟  ♟  ♟ \n",
      " ♚  ♛  ♜  ♞  ♝ \n"
     ]
    }
   ],
   "source": [
    "test_chess_board_5x5_init = mechanics.create_chess_board(\"Jacobs–Meirovitz\")\n",
    "print_board.print_board(test_chess_board_5x5_init, True)"
   ]
  },
  {
   "cell_type": "markdown",
   "metadata": {},
   "source": [
    "## 2. Game tree functions testing??|"
   ]
  },
  {
   "cell_type": "markdown",
   "metadata": {},
   "source": [
    "#### 2-1. Try it on some basic and inconclusive boards~"
   ]
  },
  {
   "cell_type": "code",
   "execution_count": 5,
   "metadata": {},
   "outputs": [
    {
     "name": "stdout",
     "output_type": "stream",
     "text": [
      "Original board:\n",
      " ♗  ♘  ♖  ♕  ♔ \n",
      " ♙  ♙  ♙  ♙  ♙ \n",
      " 口  口  口  口  口 \n",
      " ♟  ♟  ♟  ♟  ♟ \n",
      " ♚  ♛  ♜  ♞  ♝ \n",
      "\n",
      "\n",
      "Possible board No. 1\n",
      " ♗  ♘  ♖  ♕  ♔ \n",
      " ♙  ♙  ♙  ♙  ♙ \n",
      " ♟  口  口  口  口 \n",
      " 口  ♟  ♟  ♟  ♟ \n",
      " ♚  ♛  ♜  ♞  ♝ \n",
      "The game goes on\n",
      "\n",
      "\n",
      "Possible board No. 2\n",
      " ♗  ♘  ♖  ♕  ♔ \n",
      " ♙  ♙  ♙  ♙  ♙ \n",
      " 口  ♟  口  口  口 \n",
      " ♟  口  ♟  ♟  ♟ \n",
      " ♚  ♛  ♜  ♞  ♝ \n",
      "The game goes on\n",
      "\n",
      "\n",
      "Possible board No. 3\n",
      " ♗  ♘  ♖  ♕  ♔ \n",
      " ♙  ♙  ♙  ♙  ♙ \n",
      " 口  口  ♟  口  口 \n",
      " ♟  ♟  口  ♟  ♟ \n",
      " ♚  ♛  ♜  ♞  ♝ \n",
      "The game goes on\n",
      "\n",
      "\n",
      "Possible board No. 4\n",
      " ♗  ♘  ♖  ♕  ♔ \n",
      " ♙  ♙  ♙  ♙  ♙ \n",
      " 口  口  口  ♟  口 \n",
      " ♟  ♟  ♟  口  ♟ \n",
      " ♚  ♛  ♜  ♞  ♝ \n",
      "The game goes on\n",
      "\n",
      "\n",
      "Possible board No. 5\n",
      " ♗  ♘  ♖  ♕  ♔ \n",
      " ♙  ♙  ♙  ♙  ♙ \n",
      " 口  口  口  口  ♟ \n",
      " ♟  ♟  ♟  ♟  口 \n",
      " ♚  ♛  ♜  ♞  ♝ \n",
      "The game goes on\n",
      "\n",
      "\n",
      "Possible board No. 6\n",
      " ♗  ♘  ♖  ♕  ♔ \n",
      " ♙  ♙  ♙  ♙  ♙ \n",
      " 口  口  ♞  口  口 \n",
      " ♟  ♟  ♟  ♟  ♟ \n",
      " ♚  ♛  ♜  口  ♝ \n",
      "The game goes on\n",
      "\n",
      "\n",
      "Possible board No. 7\n",
      " ♗  ♘  ♖  ♕  ♔ \n",
      " ♙  ♙  ♙  ♙  ♙ \n",
      " 口  口  口  口  ♞ \n",
      " ♟  ♟  ♟  ♟  ♟ \n",
      " ♚  ♛  ♜  口  ♝ \n",
      "The game goes on\n",
      "\n",
      "\n"
     ]
    },
    {
     "data": {
      "text/plain": [
       "[[['b', 'n', 'r', 'q', 'k'],\n",
       "  ['p', 'p', 'p', 'p', 'p'],\n",
       "  ['P', '.', '.', '.', '.'],\n",
       "  ['.', 'P', 'P', 'P', 'P'],\n",
       "  ['K', 'Q', 'R', 'N', 'B']],\n",
       " [['b', 'n', 'r', 'q', 'k'],\n",
       "  ['p', 'p', 'p', 'p', 'p'],\n",
       "  ['.', 'P', '.', '.', '.'],\n",
       "  ['P', '.', 'P', 'P', 'P'],\n",
       "  ['K', 'Q', 'R', 'N', 'B']],\n",
       " [['b', 'n', 'r', 'q', 'k'],\n",
       "  ['p', 'p', 'p', 'p', 'p'],\n",
       "  ['.', '.', 'P', '.', '.'],\n",
       "  ['P', 'P', '.', 'P', 'P'],\n",
       "  ['K', 'Q', 'R', 'N', 'B']],\n",
       " [['b', 'n', 'r', 'q', 'k'],\n",
       "  ['p', 'p', 'p', 'p', 'p'],\n",
       "  ['.', '.', '.', 'P', '.'],\n",
       "  ['P', 'P', 'P', '.', 'P'],\n",
       "  ['K', 'Q', 'R', 'N', 'B']],\n",
       " [['b', 'n', 'r', 'q', 'k'],\n",
       "  ['p', 'p', 'p', 'p', 'p'],\n",
       "  ['.', '.', '.', '.', 'P'],\n",
       "  ['P', 'P', 'P', 'P', '.'],\n",
       "  ['K', 'Q', 'R', 'N', 'B']],\n",
       " [['b', 'n', 'r', 'q', 'k'],\n",
       "  ['p', 'p', 'p', 'p', 'p'],\n",
       "  ['.', '.', 'N', '.', '.'],\n",
       "  ['P', 'P', 'P', 'P', 'P'],\n",
       "  ['K', 'Q', 'R', '.', 'B']],\n",
       " [['b', 'n', 'r', 'q', 'k'],\n",
       "  ['p', 'p', 'p', 'p', 'p'],\n",
       "  ['.', '.', '.', '.', 'N'],\n",
       "  ['P', 'P', 'P', 'P', 'P'],\n",
       "  ['K', 'Q', 'R', '.', 'B']]]"
      ]
     },
     "execution_count": 5,
     "metadata": {},
     "output_type": "execute_result"
    }
   ],
   "source": [
    "print_board.print_game_tree(test_chess_board_5x5_init, \"White\")"
   ]
  },
  {
   "cell_type": "code",
   "execution_count": 6,
   "metadata": {},
   "outputs": [
    {
     "name": "stdout",
     "output_type": "stream",
     "text": [
      " ♖  口  口  ♕  ♔ \n",
      " 口  ♗  ♞  ♙  ♙ \n",
      " ♘  口  ♙  ♟  口 \n",
      " ♟  口  口  口  ♟ \n",
      " ♜  口  ♝  ♛  ♚ \n"
     ]
    }
   ],
   "source": [
    "# Trying something wilder:\n",
    "a_somewhat_midgame_board_5x5 = [\n",
    "    [\"r\", \".\", \".\", \"q\", \"k\"], \n",
    "    [\".\", \"b\", \"N\", \"p\", \"p\"], \n",
    "    [\"n\", \".\", \"p\", \"P\", \".\"], \n",
    "    [\"P\", \".\", \".\", \".\", \"P\"],\n",
    "    [\"R\", \".\", \"B\", \"Q\", \"K\"]\n",
    "]\n",
    "print_board.print_board(a_somewhat_midgame_board_5x5, True)"
   ]
  },
  {
   "cell_type": "code",
   "execution_count": 4,
   "metadata": {},
   "outputs": [],
   "source": [
    "# print_board.print_game_tree(a_somewhat_midgame_board_5x5, \"Black\")"
   ]
  },
  {
   "cell_type": "markdown",
   "metadata": {},
   "source": [
    "### 2-2. Try it on some (nearly) conclusive boards~\n",
    "#### Tom cat thinks he has more pieces, but Jerry mouse checkmates him instead~"
   ]
  },
  {
   "cell_type": "code",
   "execution_count": 8,
   "metadata": {},
   "outputs": [
    {
     "name": "stdout",
     "output_type": "stream",
     "text": [
      " 口  口  口  口  ♕ \n",
      " 口  口  口  ♗  口 \n",
      " 口  ♘  ♝  ♟  口 \n",
      " ♔  ♞  ♟  口  ♚ \n",
      " 口  口  口  ♜  口 \n"
     ]
    }
   ],
   "source": [
    "Tom_plays_White_while_Jerry_plays_Black = [\n",
    "    [\".\", \".\", \".\", \".\", \"q\"], \n",
    "    [\".\", \".\", \".\", \"b\", \".\"], \n",
    "    [\".\", \"n\", \"B\", \"P\", \".\"],\n",
    "    [\"k\", \"N\", \"P\", \".\", \"K\"],\n",
    "    [\".\", \".\", \".\", \"R\", \".\"]\n",
    "]\n",
    "print_board.print_board(Tom_plays_White_while_Jerry_plays_Black, True)\n",
    "# print_board.print_game_tree(Tom_plays_White_while_Jerry_plays_Black, \"White\")"
   ]
  },
  {
   "cell_type": "code",
   "execution_count": 9,
   "metadata": {},
   "outputs": [
    {
     "data": {
      "text/plain": [
       "'\\npossible_states_1turn_from_now = mechanics.generate_game_tree(Tom_plays_White_while_Jerry_plays_Black, \\n                                                              \"White\")\\nboards_in_total = 0\\nfor each_state in possible_states_1turn_from_now:\\n    boards_here = print_board.print_game_tree(Tom_plays_White_while_Jerry_plays_Black, \"Black\")\\n    boards_in_total += len(boards_here)\\n\\nprint(\"Total possible boards:\", boards_in_total)\\n'"
      ]
     },
     "execution_count": 9,
     "metadata": {},
     "output_type": "execute_result"
    }
   ],
   "source": [
    "\"\"\"\n",
    "possible_states_1turn_from_now = mechanics.generate_game_tree(Tom_plays_White_while_Jerry_plays_Black, \n",
    "                                                              \"White\")\n",
    "boards_in_total = 0\n",
    "for each_state in possible_states_1turn_from_now:\n",
    "    boards_here = print_board.print_game_tree(Tom_plays_White_while_Jerry_plays_Black, \"Black\")\n",
    "    boards_in_total += len(boards_here)\n",
    "\n",
    "print(\"Total possible boards:\", boards_in_total)\n",
    "\"\"\""
   ]
  },
  {
   "cell_type": "markdown",
   "metadata": {},
   "source": [
    "### 3. Back to some AI, perhaps??\n",
    " - Try something petite like 3x4 boards or Silverman 4x5"
   ]
  },
  {
   "cell_type": "code",
   "execution_count": 5,
   "metadata": {},
   "outputs": [],
   "source": [
    "# mechanics.play_a_game_smartly(\"THOC 3x4\", \"No King Rules Forever\", 4, 50)"
   ]
  },
  {
   "cell_type": "code",
   "execution_count": 11,
   "metadata": {},
   "outputs": [
    {
     "name": "stdout",
     "output_type": "stream",
     "text": [
      "Board type: THOC 3x5\n",
      " ♘  ♗  ♖ \n",
      " ♙  口  口 \n",
      " 口  口  口 \n",
      " 口  口  ♟ \n",
      " ♜  ♝  ♞ \n",
      "Turn No. 1 ; It is White's turn.\n",
      " ♘  ♗  ♖ \n",
      " ♙  口  口 \n",
      " ♜  口  口 \n",
      " 口  口  ♟ \n",
      " 口  ♝  ♞ \n",
      "Turn No. 2 ; It is Black's turn.\n",
      " ♘  ♗  口 \n",
      " ♙  口  ♖ \n",
      " ♜  口  口 \n",
      " 口  口  ♟ \n",
      " 口  ♝  ♞ \n",
      "Turn No. 3 ; It is White's turn.\n",
      " ♘  ♗  口 \n",
      " ♙  口  ♖ \n",
      " 口  口  ♜ \n",
      " 口  口  ♟ \n",
      " 口  ♝  ♞ \n",
      "Turn No. 4 ; It is Black's turn.\n",
      " ♘  ♗  口 \n",
      " ♙  ♖  口 \n",
      " 口  口  ♜ \n",
      " 口  口  ♟ \n",
      " 口  ♝  ♞ \n",
      "Turn No. 5 ; It is White's turn.\n",
      " ♘  ♗  口 \n",
      " ♙  ♖  口 \n",
      " 口  口  ♜ \n",
      " ♞  口  ♟ \n",
      " 口  ♝  口 \n",
      "Turn No. 6 ; It is Black's turn.\n",
      " ♘  ♗  口 \n",
      " ♙  口  口 \n",
      " 口  口  ♜ \n",
      " ♞  口  ♟ \n",
      " 口  ♖  口 \n",
      "Turn No. 7 ; It is White's turn.\n",
      " ♘  ♗  口 \n",
      " ♙  ♞  口 \n",
      " 口  口  ♜ \n",
      " 口  口  ♟ \n",
      " 口  ♖  口 \n",
      "Turn No. 8 ; It is Black's turn.\n",
      " ♘  ♗  口 \n",
      " ♙  ♖  口 \n",
      " 口  口  ♜ \n",
      " 口  口  ♟ \n",
      " 口  口  口 \n",
      "Turn No. 9 ; It is White's turn.\n",
      " ♘  ♗  口 \n",
      " ♙  ♖  口 \n",
      " 口  ♜  口 \n",
      " 口  口  ♟ \n",
      " 口  口  口 \n",
      "Turn No. 10 ; It is Black's turn.\n",
      " ♘  ♗  口 \n",
      " ♙  口  口 \n",
      " 口  ♖  口 \n",
      " 口  口  ♟ \n",
      " 口  口  口 \n",
      "Turn No. 11 ; It is White's turn.\n",
      " ♘  ♗  口 \n",
      " ♙  口  口 \n",
      " 口  ♟  口 \n",
      " 口  口  口 \n",
      " 口  口  口 \n",
      "Turn No. 12 ; It is Black's turn.\n",
      " ♘  ♗  口 \n",
      " 口  口  口 \n",
      " ♙  ♟  口 \n",
      " 口  口  口 \n",
      " 口  口  口 \n",
      "Turn No. 13 ; It is White's turn.\n",
      " ♘  ♗  口 \n",
      " 口  ♟  口 \n",
      " ♙  口  口 \n",
      " 口  口  口 \n",
      " 口  口  口 \n",
      "Turn No. 14 ; It is Black's turn.\n",
      " ♘  口  口 \n",
      " ♗  ♟  口 \n",
      " ♙  口  口 \n",
      " 口  口  口 \n",
      " 口  口  口 \n",
      "Turn No. 15 ; It is White's turn.\n",
      " ♟  口  口 \n",
      " ♗  口  口 \n",
      " ♙  口  口 \n",
      " 口  口  口 \n",
      " 口  口  口 \n",
      "Turn No. 16 ; It is Black's turn.\n",
      " ♟  口  口 \n",
      " 口  口  口 \n",
      " ♙  口  口 \n",
      " 口  口  ♗ \n",
      " 口  口  口 \n",
      "Turn No. 17 ; It is White's turn.\n",
      "No legal moves left! White Player submits!\n",
      "White player submits. Black wins.\n",
      " ♟  口  口 \n",
      " 口  口  口 \n",
      " ♙  口  口 \n",
      " 口  口  ♗ \n",
      " 口  口  口 \n"
     ]
    },
    {
     "data": {
      "text/plain": [
       "['Black',\n",
       " [['P', '.', '.'],\n",
       "  ['.', '.', '.'],\n",
       "  ['p', '.', '.'],\n",
       "  ['.', '.', 'b'],\n",
       "  ['.', '.', '.']],\n",
       " 16]"
      ]
     },
     "execution_count": 11,
     "metadata": {},
     "output_type": "execute_result"
    }
   ],
   "source": [
    "mechanics.play_a_game_smartly(\"THOC 3x5\", \"No King Rules Forever\", 2, 100)"
   ]
  },
  {
   "cell_type": "code",
   "execution_count": 12,
   "metadata": {},
   "outputs": [
    {
     "name": "stdout",
     "output_type": "stream",
     "text": [
      "Board type: QueensGlt 3x5\n",
      " ♘  ♕  ♘ \n",
      " 口  ♔  口 \n",
      " 口  口  口 \n",
      " 口  ♚  口 \n",
      " ♞  ♛  ♞ \n",
      "Turn No. 1 ; It is White's turn.\n",
      " ♘  ♕  ♘ \n",
      " 口  ♔  口 \n",
      " 口  口  口 \n",
      " ♛  ♚  口 \n",
      " ♞  口  ♞ \n",
      "Turn No. 2 ; It is Black's turn.\n",
      " ♘  口  ♘ \n",
      " ♕  ♔  口 \n",
      " 口  口  口 \n",
      " ♛  ♚  口 \n",
      " ♞  口  ♞ \n",
      "Turn No. 3 ; It is White's turn.\n",
      " ♘  口  ♘ \n",
      " ♕  ♔  口 \n",
      " 口  口  口 \n",
      " 口  ♚  口 \n",
      " ♞  ♛  ♞ \n",
      "Turn No. 4 ; It is Black's turn.\n",
      " ♘  口  ♘ \n",
      " ♕  口  口 \n",
      " 口  ♔  口 \n",
      " 口  ♚  口 \n",
      " ♞  ♛  ♞ \n",
      "Turn No. 5 ; It is White's turn.\n",
      " ♘  口  ♘ \n",
      " ♕  口  口 \n",
      " 口  ♔  口 \n",
      " ♞  ♚  口 \n",
      " ♞  ♛  口 \n",
      "Turn No. 6 ; It is Black's turn.\n",
      " ♘  口  ♘ \n",
      " ♕  ♔  口 \n",
      " 口  口  口 \n",
      " ♞  ♚  口 \n",
      " ♞  ♛  口 \n",
      "Turn No. 7 ; It is White's turn.\n",
      " ♘  口  ♘ \n",
      " ♕  ♔  口 \n",
      " 口  口  口 \n",
      " ♞  ♚  ♛ \n",
      " ♞  口  口 \n",
      "Turn No. 8 ; It is Black's turn.\n",
      " ♘  口  ♘ \n",
      " ♕  口  口 \n",
      " 口  口  ♔ \n",
      " ♞  ♚  ♛ \n",
      " ♞  口  口 \n",
      "Turn No. 9 ; It is White's turn.\n",
      " ♘  口  ♘ \n",
      " ♕  口  口 \n",
      " 口  口  ♚ \n",
      " ♞  口  ♛ \n",
      " ♞  口  口 \n",
      "Turn No. 10 ; It is Black's turn.\n",
      " ♘  口  ♘ \n",
      " 口  口  口 \n",
      " 口  口  ♚ \n",
      " ♞  口  ♕ \n",
      " ♞  口  口 \n",
      "Turn No. 11 ; It is White's turn.\n",
      " ♘  口  ♘ \n",
      " 口  口  口 \n",
      " 口  口  ♚ \n",
      " 口  口  ♕ \n",
      " ♞  口  ♞ \n",
      "Turn No. 12 ; It is Black's turn.\n",
      " ♘  口  ♘ \n",
      " 口  口  口 \n",
      " 口  口  ♚ \n",
      " 口  ♕  口 \n",
      " ♞  口  ♞ \n",
      "Turn No. 13 ; It is White's turn.\n",
      " ♘  口  ♘ \n",
      " 口  口  口 \n",
      " 口  口  口 \n",
      " 口  ♚  口 \n",
      " ♞  口  ♞ \n",
      "Turn No. 14 ; It is Black's turn.\n",
      " 口  口  ♘ \n",
      " 口  口  ♘ \n",
      " 口  口  口 \n",
      " 口  ♚  口 \n",
      " ♞  口  ♞ \n",
      "Turn No. 15 ; It is White's turn.\n",
      " 口  口  ♘ \n",
      " 口  口  ♘ \n",
      " 口  ♞  口 \n",
      " 口  ♚  口 \n",
      " ♞  口  口 \n",
      "Turn No. 16 ; It is Black's turn.\n",
      " 口  口  ♘ \n",
      " 口  口  口 \n",
      " 口  ♞  口 \n",
      " 口  ♘  口 \n",
      " ♞  口  口 \n",
      "Turn No. 17 ; It is White's turn.\n",
      " 口  口  ♞ \n",
      " 口  口  口 \n",
      " 口  口  口 \n",
      " 口  ♘  口 \n",
      " ♞  口  口 \n",
      "Turn No. 18 ; It is Black's turn.\n",
      " 口  口  ♞ \n",
      " 口  口  ♘ \n",
      " 口  口  口 \n",
      " 口  口  口 \n",
      " ♞  口  口 \n",
      "Turn No. 19 ; It is White's turn.\n",
      " 口  口  ♞ \n",
      " 口  口  ♘ \n",
      " 口  口  口 \n",
      " 口  口  ♞ \n",
      " 口  口  口 \n",
      "Turn No. 20 ; It is Black's turn.\n",
      " 口  口  ♞ \n",
      " 口  口  口 \n",
      " 口  口  口 \n",
      " 口  ♘  ♞ \n",
      " 口  口  口 \n",
      "Turn No. 21 ; It is White's turn.\n",
      " 口  口  ♞ \n",
      " 口  口  口 \n",
      " ♞  口  口 \n",
      " 口  ♘  口 \n",
      " 口  口  口 \n",
      "Turn No. 22 ; It is Black's turn.\n",
      " 口  口  ♞ \n",
      " 口  口  ♘ \n",
      " ♞  口  口 \n",
      " 口  口  口 \n",
      " 口  口  口 \n",
      "Turn No. 23 ; It is White's turn.\n",
      " 口  ♞  ♞ \n",
      " 口  口  ♘ \n",
      " 口  口  口 \n",
      " 口  口  口 \n",
      " 口  口  口 \n",
      "Turn No. 24 ; It is Black's turn.\n",
      " ♘  ♞  ♞ \n",
      " 口  口  口 \n",
      " 口  口  口 \n",
      " 口  口  口 \n",
      " 口  口  口 \n",
      "Turn No. 25 ; It is White's turn.\n",
      " ♘  口  ♞ \n",
      " 口  口  口 \n",
      " ♞  口  口 \n",
      " 口  口  口 \n",
      " 口  口  口 \n",
      "Turn No. 26 ; It is Black's turn.\n",
      " 口  口  ♞ \n",
      " 口  口  口 \n",
      " ♞  ♘  口 \n",
      " 口  口  口 \n",
      " 口  口  口 \n",
      "Turn No. 27 ; It is White's turn.\n",
      " 口  ♞  ♞ \n",
      " 口  口  口 \n",
      " 口  ♘  口 \n",
      " 口  口  口 \n",
      " 口  口  口 \n",
      "Turn No. 28 ; It is Black's turn.\n",
      " 口  ♞  ♘ \n",
      " 口  口  口 \n",
      " 口  口  口 \n",
      " 口  口  口 \n",
      " 口  口  口 \n",
      "Turn No. 29 ; It is White's turn.\n",
      " 口  口  ♘ \n",
      " 口  口  口 \n",
      " ♞  口  口 \n",
      " 口  口  口 \n",
      " 口  口  口 \n",
      "Turn No. 30 ; It is Black's turn.\n",
      " 口  口  口 \n",
      " ♘  口  口 \n",
      " ♞  口  口 \n",
      " 口  口  口 \n",
      " 口  口  口 \n",
      "Turn No. 31 ; It is White's turn.\n",
      " 口  口  口 \n",
      " ♘  口  口 \n",
      " 口  口  口 \n",
      " 口  口  口 \n",
      " 口  ♞  口 \n",
      "Turn No. 32 ; It is Black's turn.\n",
      " 口  口  ♘ \n",
      " 口  口  口 \n",
      " 口  口  口 \n",
      " 口  口  口 \n",
      " 口  ♞  口 \n",
      "Turn No. 33 ; It is White's turn.\n",
      " 口  口  ♘ \n",
      " 口  口  口 \n",
      " ♞  口  口 \n",
      " 口  口  口 \n",
      " 口  口  口 \n",
      "Turn No. 34 ; It is Black's turn.\n",
      " 口  口  口 \n",
      " ♘  口  口 \n",
      " ♞  口  口 \n",
      " 口  口  口 \n",
      " 口  口  口 \n",
      "Turn No. 35 ; It is White's turn.\n",
      " 口  口  口 \n",
      " ♘  口  口 \n",
      " 口  口  口 \n",
      " 口  口  口 \n",
      " 口  ♞  口 \n",
      "Turn No. 36 ; It is Black's turn.\n",
      " 口  口  口 \n",
      " 口  口  口 \n",
      " 口  口  口 \n",
      " 口  ♘  口 \n",
      " 口  ♞  口 \n",
      "Turn No. 37 ; It is White's turn.\n",
      " 口  口  口 \n",
      " 口  口  口 \n",
      " ♞  口  口 \n",
      " 口  ♘  口 \n",
      " 口  口  口 \n",
      "Turn No. 38 ; It is Black's turn.\n",
      " 口  口  口 \n",
      " 口  口  ♘ \n",
      " ♞  口  口 \n",
      " 口  口  口 \n",
      " 口  口  口 \n",
      "Turn No. 39 ; It is White's turn.\n",
      "All Black pieces eliminated. The White Player has won.\n",
      "The game is over.\n",
      " 口  口  口 \n",
      " 口  口  ♞ \n",
      " 口  口  口 \n",
      " 口  口  口 \n",
      " 口  口  口 \n"
     ]
    },
    {
     "data": {
      "text/plain": [
       "['White',\n",
       " [['.', '.', '.'],\n",
       "  ['.', '.', 'N'],\n",
       "  ['.', '.', '.'],\n",
       "  ['.', '.', '.'],\n",
       "  ['.', '.', '.']],\n",
       " 38]"
      ]
     },
     "execution_count": 12,
     "metadata": {},
     "output_type": "execute_result"
    }
   ],
   "source": [
    "mechanics.play_a_game_smartly(\"QueensGlt 3x5\", \"Kings are overrated\", 4, 999)"
   ]
  },
  {
   "cell_type": "code",
   "execution_count": 6,
   "metadata": {},
   "outputs": [],
   "source": [
    "# mechanics.play_a_game_smartly(\"AltThai\", \"Thai is Cool\", 4, 999)"
   ]
  },
  {
   "cell_type": "code",
   "execution_count": 7,
   "metadata": {},
   "outputs": [],
   "source": [
    "# mechanics.play_a_game_smartly(\"Silverman 4x5\", \"King\", 2, 99)"
   ]
  },
  {
   "cell_type": "code",
   "execution_count": 14,
   "metadata": {},
   "outputs": [],
   "source": [
    "# mechanics.play_a_game_smartly(\"Jacobs–Meirovitz\", \"King\", 3, 999)"
   ]
  },
  {
   "cell_type": "code",
   "execution_count": 3,
   "metadata": {},
   "outputs": [],
   "source": [
    "#mechanics.play_a_game_smartly(\"Gardner\", \"King\", 2, 99)"
   ]
  },
  {
   "cell_type": "code",
   "execution_count": 8,
   "metadata": {},
   "outputs": [
    {
     "data": {
      "text/plain": [
       "'\\nimport argparse\\nimport json\\n\\nimport mechanics\\nimport print_board\\nimport chess.svg\\n'"
      ]
     },
     "execution_count": 8,
     "metadata": {},
     "output_type": "execute_result"
    }
   ],
   "source": [
    "\"\"\"\n",
    "import argparse\n",
    "import json\n",
    "\n",
    "import mechanics\n",
    "import print_board\n",
    "import chess.svg\n",
    "\"\"\"\n",
    "\n",
    "# mechanics.play_and_record_games(999, \"THOC 3x5\", \"No King Rules Forever\", 4, 50)"
   ]
  },
  {
   "cell_type": "code",
   "execution_count": 2,
   "metadata": {},
   "outputs": [],
   "source": [
    "# mechanics.play_and_record_games(999, \"QueensMen 3x5\", \"Queens are pretty cool\", 4, 50)"
   ]
  },
  {
   "cell_type": "code",
   "execution_count": null,
   "metadata": {},
   "outputs": [],
   "source": []
  }
 ],
 "metadata": {
  "kernelspec": {
   "display_name": "Python 3",
   "language": "python",
   "name": "python3"
  },
  "language_info": {
   "codemirror_mode": {
    "name": "ipython",
    "version": 3
   },
   "file_extension": ".py",
   "mimetype": "text/x-python",
   "name": "python",
   "nbconvert_exporter": "python",
   "pygments_lexer": "ipython3",
   "version": "3.8.3"
  }
 },
 "nbformat": 4,
 "nbformat_minor": 1
}
