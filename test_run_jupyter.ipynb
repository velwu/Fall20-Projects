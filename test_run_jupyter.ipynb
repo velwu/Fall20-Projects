{
 "cells": [
  {
   "cell_type": "code",
   "execution_count": 1,
   "metadata": {},
   "outputs": [],
   "source": [
    "import argparse\n",
    "import json\n",
    "\n",
    "import mechanics\n",
    "import print_board\n",
    "import chess.svg"
   ]
  },
  {
   "cell_type": "code",
   "execution_count": 2,
   "metadata": {
    "pycharm": {
     "name": "#%%\n"
    }
   },
   "outputs": [],
   "source": [
    "# Test 1. Get a Gardner board\n",
    "# chess_board = mechanics.create_chess_board(\"Gardner\")\n",
    "# Test 2. Get a Jacobs–Meirovitz board\n",
    "# chess_board = mechanics.create_chess_board(\"Jacobs–Meirovitz\")\n",
    "# Test 3. Get a Mallett board\n",
    "# chess_board = mechanics.create_chess_board(\"Mallett\")"
   ]
  },
  {
   "cell_type": "code",
   "execution_count": 3,
   "metadata": {
    "pycharm": {
     "name": "#%%\n"
    }
   },
   "outputs": [
    {
     "name": "stdout",
     "output_type": "stream",
     "text": [
      "Adding a White Rook at (4, 2)\n",
      "Adding a Black Queen at (2, 0)\n",
      "Adding a Black Pawn at (1, 2)\n",
      "Adding a White Knight at (2, 2)\n",
      "Adding a White King at (4, 0)\n",
      "Adding a Black Bishop at (3, 3)\n",
      "Adding a White Queen at (4, 1)\n",
      "Adding a Black Pawn at (1, 0)\n",
      "Adding a Black King at (0, 4)\n",
      "Adding a Black Pawn at (3, 0)\n",
      " 口  口  口  口  ♔ \n",
      " ♙  口  ♙  口  口 \n",
      " ♕  口  ♞  口  口 \n",
      " ♙  口  口  ♗  口 \n",
      " ♚  ♛  ♜  口  口 \n",
      "{\"piece\": [\"P\", \"Black Pawn\"], \"1 possible moves from current_location\": [3, 0]}\n"
     ]
    }
   ],
   "source": [
    "# Test 4. Place some derelict pieces to test piece movement mechanics\n",
    "location = (4,2)\n",
    "chess_board = [[\".\", \".\", \".\", \".\", \".\"] for i in range(5)]\n",
    "mechanics.add_piece_forcibly(chess_board, 'r', location)\n",
    "\n",
    "other_location = (2,0)\n",
    "mechanics.add_piece_forcibly(chess_board, 'Q', other_location)\n",
    "yet_other_location = (1,2)\n",
    "mechanics.add_piece_forcibly(chess_board, \"P\", yet_other_location)\n",
    "another_location_0 = (2,2)\n",
    "mechanics.add_piece_forcibly(chess_board, \"n\", another_location_0)\n",
    "another_location_1 = (4,0)\n",
    "mechanics.add_piece_forcibly(chess_board, \"k\", another_location_1)\n",
    "another_location_2 = (3,3)\n",
    "mechanics.add_piece_forcibly(chess_board, 'B', another_location_2)\n",
    "another_location_3 = (4,1)\n",
    "mechanics.add_piece_forcibly(chess_board, \"q\", another_location_3)\n",
    "another_location_4 = (1,0)\n",
    "mechanics.add_piece_forcibly(chess_board, \"P\", another_location_4)\n",
    "another_location_5 = (0,4)\n",
    "mechanics.add_piece_forcibly(chess_board, \"K\", another_location_5)\n",
    "another_location_6 = (3,0)\n",
    "mechanics.add_piece_forcibly(chess_board, \"P\", another_location_6)\n",
    "\n",
    "\n",
    "# According to the type of piece adjust function\n",
    "print_board.print_board(chess_board, True)\n",
    "test_coord = (3,0)\n",
    "piece_to_test = mechanics.get_piece_at_position(test_coord,chess_board)\n",
    "location_to_test = test_coord\n",
    "if (piece_to_test[0] in ['Q', 'q']):\n",
    "    possible_moves = mechanics.get_queen_moves(location_to_test, chess_board)\n",
    "\n",
    "elif (piece_to_test[0] in ['K', 'k']):\n",
    "    possible_moves = mechanics.get_king_moves(location_to_test, chess_board)\n",
    "\n",
    "elif (piece_to_test[0] in ['B', 'b']):\n",
    "    possible_moves = mechanics.get_bishop_moves(location_to_test, chess_board)\n",
    "\n",
    "elif (piece_to_test[0] in ['N', 'n']):\n",
    "    possible_moves = mechanics.get_knight_moves(location_to_test, chess_board)\n",
    "\n",
    "elif (piece_to_test[0] in ['R', 'r']):\n",
    "    possible_moves = mechanics.get_rook_moves(location_to_test, chess_board)\n",
    "\n",
    "elif (piece_to_test[0] in ['P', 'p']):\n",
    "    possible_moves = mechanics.get_pawn_moves(location_to_test, chess_board)\n",
    "else:\n",
    "    print(\"There is no piece in that square.\")\n",
    "\n",
    "print(json.dumps({\"piece\":piece_to_test,\n",
    "                  str(len(possible_moves)) + \" possible moves from current_location\": location_to_test}))"
   ]
  },
  {
   "cell_type": "code",
   "execution_count": 4,
   "metadata": {
    "pycharm": {
     "name": "#%%\n"
    }
   },
   "outputs": [
    {
     "name": "stdout",
     "output_type": "stream",
     "text": [
      "Board type: Jacobs–Meirovitz\n",
      " ♗  ♘  ♖  ♕  ♔ \n",
      " ♙  ♙  ♙  ♙  ♙ \n",
      " 口  口  口  口  口 \n",
      " ♟  ♟  ♟  ♟  ♟ \n",
      " ♚  ♛  ♜  ♞  ♝ \n"
     ]
    }
   ],
   "source": [
    "test_chess_board_5x5_init = mechanics.create_chess_board(\"Jacobs–Meirovitz\")\n",
    "print_board.print_board(test_chess_board_5x5_init, True)"
   ]
  },
  {
   "cell_type": "code",
   "execution_count": 5,
   "metadata": {},
   "outputs": [],
   "source": [
    "def print_game_tree(test_chess_board, which_player):\n",
    "    print(\"Original board:\")\n",
    "    print_board.print_board(test_chess_board, True)\n",
    "    print(\"\\n\")\n",
    "\n",
    "    some_opening_boards_turn1 = mechanics.generate_game_tree(test_chess_board, which_player)\n",
    "\n",
    "    for each_idx, each_opening in enumerate(some_opening_boards_turn1):\n",
    "        print(\"Possible board No.\", str(each_idx+1))\n",
    "        print_board.print_board(each_opening, True)\n",
    "        print(\"\\n\")"
   ]
  },
  {
   "cell_type": "code",
   "execution_count": 6,
   "metadata": {},
   "outputs": [
    {
     "name": "stdout",
     "output_type": "stream",
     "text": [
      "Original board:\n",
      " ♗  ♘  ♖  ♕  ♔ \n",
      " ♙  ♙  ♙  ♙  ♙ \n",
      " 口  口  口  口  口 \n",
      " ♟  ♟  ♟  ♟  ♟ \n",
      " ♚  ♛  ♜  ♞  ♝ \n",
      "\n",
      "\n",
      "Possible board No. 1\n",
      " ♗  ♘  ♖  ♕  ♔ \n",
      " ♙  ♙  ♙  ♙  ♙ \n",
      " ♟  口  口  口  口 \n",
      " 口  ♟  ♟  ♟  ♟ \n",
      " ♚  ♛  ♜  ♞  ♝ \n",
      "\n",
      "\n",
      "Possible board No. 2\n",
      " ♗  ♘  ♖  ♕  ♔ \n",
      " ♙  ♙  ♙  ♙  ♙ \n",
      " 口  ♟  口  口  口 \n",
      " ♟  口  ♟  ♟  ♟ \n",
      " ♚  ♛  ♜  ♞  ♝ \n",
      "\n",
      "\n",
      "Possible board No. 3\n",
      " ♗  ♘  ♖  ♕  ♔ \n",
      " ♙  ♙  ♙  ♙  ♙ \n",
      " 口  口  ♟  口  口 \n",
      " ♟  ♟  口  ♟  ♟ \n",
      " ♚  ♛  ♜  ♞  ♝ \n",
      "\n",
      "\n",
      "Possible board No. 4\n",
      " ♗  ♘  ♖  ♕  ♔ \n",
      " ♙  ♙  ♙  ♙  ♙ \n",
      " 口  口  口  ♟  口 \n",
      " ♟  ♟  ♟  口  ♟ \n",
      " ♚  ♛  ♜  ♞  ♝ \n",
      "\n",
      "\n",
      "Possible board No. 5\n",
      " ♗  ♘  ♖  ♕  ♔ \n",
      " ♙  ♙  ♙  ♙  ♙ \n",
      " 口  口  口  口  ♟ \n",
      " ♟  ♟  ♟  ♟  口 \n",
      " ♚  ♛  ♜  ♞  ♝ \n",
      "\n",
      "\n",
      "Possible board No. 6\n",
      " ♗  ♘  ♖  ♕  ♔ \n",
      " ♙  ♙  ♙  ♙  ♙ \n",
      " 口  口  ♞  口  口 \n",
      " ♟  ♟  ♟  ♟  ♟ \n",
      " ♚  ♛  ♜  口  ♝ \n",
      "\n",
      "\n",
      "Possible board No. 7\n",
      " ♗  ♘  ♖  ♕  ♔ \n",
      " ♙  ♙  ♙  ♙  ♙ \n",
      " 口  口  口  口  ♞ \n",
      " ♟  ♟  ♟  ♟  ♟ \n",
      " ♚  ♛  ♜  口  ♝ \n",
      "\n",
      "\n"
     ]
    }
   ],
   "source": [
    "print_game_tree(test_chess_board_5x5_init, \"White\")"
   ]
  },
  {
   "cell_type": "code",
   "execution_count": 7,
   "metadata": {},
   "outputs": [
    {
     "name": "stdout",
     "output_type": "stream",
     "text": [
      " ♖  口  口  ♕  ♔ \n",
      " 口  ♗  ♞  ♙  ♙ \n",
      " ♘  口  ♙  ♟  口 \n",
      " ♟  口  口  口  ♟ \n",
      " ♜  口  ♝  ♛  ♚ \n"
     ]
    }
   ],
   "source": [
    "# Trying something wilder:\n",
    "a_somewhat_midgame_board_5x5 = [\n",
    "    [\"R\", \".\", \".\", \"Q\", \"K\"], \n",
    "    [\".\", \"B\", \"n\", \"P\", \"P\"], \n",
    "    [\"N\", \".\", \"P\", \"p\", \".\"], \n",
    "    [\"p\", \".\", \".\", \".\", \"p\"],\n",
    "    [\"r\", \".\", \"b\", \"q\", \"k\"]\n",
    "]\n",
    "print_board.print_board(a_somewhat_midgame_board_5x5, True)"
   ]
  },
  {
   "cell_type": "code",
   "execution_count": 9,
   "metadata": {},
   "outputs": [
    {
     "name": "stdout",
     "output_type": "stream",
     "text": [
      "Original board:\n",
      " ♖  口  口  ♕  ♔ \n",
      " 口  ♗  ♞  ♙  ♙ \n",
      " ♘  口  ♙  ♟  口 \n",
      " ♟  口  口  口  ♟ \n",
      " ♜  口  ♝  ♛  ♚ \n",
      "\n",
      "\n",
      "Possible board No. 1\n",
      " 口  口  口  ♕  ♔ \n",
      " ♖  ♗  ♞  ♙  ♙ \n",
      " ♘  口  ♙  ♟  口 \n",
      " ♟  口  口  口  ♟ \n",
      " ♜  口  ♝  ♛  ♚ \n",
      "\n",
      "\n",
      "Possible board No. 2\n",
      " 口  ♖  口  ♕  ♔ \n",
      " 口  ♗  ♞  ♙  ♙ \n",
      " ♘  口  ♙  ♟  口 \n",
      " ♟  口  口  口  ♟ \n",
      " ♜  口  ♝  ♛  ♚ \n",
      "\n",
      "\n",
      "Possible board No. 3\n",
      " 口  口  ♖  ♕  ♔ \n",
      " 口  ♗  ♞  ♙  ♙ \n",
      " ♘  口  ♙  ♟  口 \n",
      " ♟  口  口  口  ♟ \n",
      " ♜  口  ♝  ♛  ♚ \n",
      "\n",
      "\n",
      "Possible board No. 4\n",
      " ♖  口  ♕  口  ♔ \n",
      " 口  ♗  ♞  ♙  ♙ \n",
      " ♘  口  ♙  ♟  口 \n",
      " ♟  口  口  口  ♟ \n",
      " ♜  口  ♝  ♛  ♚ \n",
      "\n",
      "\n",
      "Possible board No. 5\n",
      " ♖  ♕  口  口  ♔ \n",
      " 口  ♗  ♞  ♙  ♙ \n",
      " ♘  口  ♙  ♟  口 \n",
      " ♟  口  口  口  ♟ \n",
      " ♜  口  ♝  ♛  ♚ \n",
      "\n",
      "\n",
      "Possible board No. 6\n",
      " ♖  口  口  口  ♔ \n",
      " 口  ♗  ♕  ♙  ♙ \n",
      " ♘  口  ♙  ♟  口 \n",
      " ♟  口  口  口  ♟ \n",
      " ♜  口  ♝  ♛  ♚ \n",
      "\n",
      "\n",
      "Possible board No. 7\n",
      " ♖  口  ♗  ♕  ♔ \n",
      " 口  口  ♞  ♙  ♙ \n",
      " ♘  口  ♙  ♟  口 \n",
      " ♟  口  口  口  ♟ \n",
      " ♜  口  ♝  ♛  ♚ \n",
      "\n",
      "\n",
      "Possible board No. 8\n",
      " ♖  口  口  ♕  ♔ \n",
      " 口  ♗  ♞  ♙  口 \n",
      " ♘  口  ♙  ♟  ♙ \n",
      " ♟  口  口  口  ♟ \n",
      " ♜  口  ♝  ♛  ♚ \n",
      "\n",
      "\n",
      "Possible board No. 9\n",
      " ♖  口  口  ♕  ♔ \n",
      " 口  ♗  ♞  ♙  口 \n",
      " ♘  口  ♙  ♙  口 \n",
      " ♟  口  口  口  ♟ \n",
      " ♜  口  ♝  ♛  ♚ \n",
      "\n",
      "\n",
      "Possible board No. 10\n",
      " ♖  口  口  ♕  ♔ \n",
      " 口  ♗  ♞  ♙  ♙ \n",
      " 口  口  ♙  ♟  口 \n",
      " ♟  口  ♘  口  ♟ \n",
      " ♜  口  ♝  ♛  ♚ \n",
      "\n",
      "\n",
      "Possible board No. 11\n",
      " ♖  口  口  ♕  ♔ \n",
      " 口  ♗  ♘  ♙  ♙ \n",
      " 口  口  ♙  ♟  口 \n",
      " ♟  口  口  口  ♟ \n",
      " ♜  口  ♝  ♛  ♚ \n",
      "\n",
      "\n",
      "Possible board No. 12\n",
      " ♖  口  口  ♕  ♔ \n",
      " 口  ♗  ♞  ♙  ♙ \n",
      " 口  口  ♙  ♟  口 \n",
      " ♟  口  口  口  ♟ \n",
      " ♜  ♘  ♝  ♛  ♚ \n",
      "\n",
      "\n",
      "Possible board No. 13\n",
      " ♖  ♘  口  ♕  ♔ \n",
      " 口  ♗  ♞  ♙  ♙ \n",
      " 口  口  ♙  ♟  口 \n",
      " ♟  口  口  口  ♟ \n",
      " ♜  口  ♝  ♛  ♚ \n",
      "\n",
      "\n",
      "Possible board No. 14\n",
      " ♖  口  口  ♕  ♔ \n",
      " 口  ♗  ♞  ♙  ♙ \n",
      " ♘  口  口  ♟  口 \n",
      " ♟  口  ♙  口  ♟ \n",
      " ♜  口  ♝  ♛  ♚ \n",
      "\n",
      "\n"
     ]
    }
   ],
   "source": [
    "print_game_tree(a_somewhat_midgame_board_5x5, \"Black\")"
   ]
  },
  {
   "cell_type": "code",
   "execution_count": null,
   "metadata": {},
   "outputs": [],
   "source": []
  }
 ],
 "metadata": {
  "kernelspec": {
   "display_name": "Python 3",
   "language": "python",
   "name": "python3"
  },
  "language_info": {
   "codemirror_mode": {
    "name": "ipython",
    "version": 3
   },
   "file_extension": ".py",
   "mimetype": "text/x-python",
   "name": "python",
   "nbconvert_exporter": "python",
   "pygments_lexer": "ipython3",
   "version": "3.8.3"
  }
 },
 "nbformat": 4,
 "nbformat_minor": 1
}
